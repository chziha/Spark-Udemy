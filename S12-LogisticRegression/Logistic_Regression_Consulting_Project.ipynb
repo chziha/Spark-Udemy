{
 "cells": [
  {
   "cell_type": "markdown",
   "metadata": {},
   "source": [
    "# Logistic Regression Consulting Project"
   ]
  },
  {
   "cell_type": "markdown",
   "metadata": {
    "collapsed": true
   },
   "source": [
    "## Binary Customer Churn\n",
    "\n",
    "A marketing agency has many customers that use their service to produce ads for the client/customer websites. They've noticed that they have quite a bit of churn in clients. They basically randomly assign account managers right now, but want you to create a machine learning model that will help predict which customers will churn (stop buying their service) so that they can correctly assign the customers most at risk to churn an account manager. Luckily they have some historical data, can you help them out? Create a classification algorithm that will help classify whether or not a customer churned. Then the company can test this against incoming data for future customers to predict which customers will churn and assign them an account manager.\n",
    "\n",
    "The data is saved as customer_churn.csv. Here are the fields and their definitions:\n",
    "\n",
    "    Name : Name of the latest contact at Company\n",
    "    Age: Customer Age\n",
    "    Total_Purchase: Total Ads Purchased\n",
    "    Account_Manager: Binary 0=No manager, 1= Account manager assigned\n",
    "    Years: Totaly Years as a customer\n",
    "    Num_sites: Number of websites that use the service.\n",
    "    Onboard_date: Date that the name of the latest contact was onboarded\n",
    "    Location: Client HQ Address\n",
    "    Company: Name of Client Company\n",
    "    \n",
    "Once you've created the model and evaluated it, test out the model on some new data (you can think of this almost like a hold-out set) that your client has provided, saved under new_customers.csv. The client wants to know which customers are most likely to churn given this data (they don't have the label yet)."
   ]
  },
  {
   "cell_type": "code",
   "execution_count": 1,
   "metadata": {},
   "outputs": [],
   "source": [
    "import findspark\n",
    "findspark.init('/home/czh/spark-2.4.6-bin-hadoop2.7/')"
   ]
  },
  {
   "cell_type": "code",
   "execution_count": 2,
   "metadata": {},
   "outputs": [],
   "source": [
    "from pyspark.sql import SparkSession\n",
    "spark = SparkSession.builder.appName('Project').getOrCreate()"
   ]
  },
  {
   "cell_type": "code",
   "execution_count": 3,
   "metadata": {},
   "outputs": [
    {
     "name": "stdout",
     "output_type": "stream",
     "text": [
      "root\n",
      " |-- Names: string (nullable = true)\n",
      " |-- Age: double (nullable = true)\n",
      " |-- Total_Purchase: double (nullable = true)\n",
      " |-- Account_Manager: integer (nullable = true)\n",
      " |-- Years: double (nullable = true)\n",
      " |-- Num_Sites: double (nullable = true)\n",
      " |-- Onboard_date: timestamp (nullable = true)\n",
      " |-- Location: string (nullable = true)\n",
      " |-- Company: string (nullable = true)\n",
      " |-- Churn: integer (nullable = true)\n",
      "\n"
     ]
    }
   ],
   "source": [
    "# Read in teh data\n",
    "df = spark.read.csv('customer_churn.csv', inferSchema=True, header=True)\n",
    "df.printSchema()"
   ]
  },
  {
   "cell_type": "code",
   "execution_count": 4,
   "metadata": {},
   "outputs": [
    {
     "data": {
      "text/plain": [
       "Row(Churn=1, features=DenseVector([42.0, 11066.8, 0.0, 7.22, 8.0]))"
      ]
     },
     "execution_count": 4,
     "metadata": {},
     "output_type": "execute_result"
    }
   ],
   "source": [
    "# Select useful features\n",
    "from pyspark.ml.feature import VectorAssembler\n",
    "\n",
    "assembler = VectorAssembler(inputCols=['Age', 'Total_Purchase', 'Account_Manager', \n",
    "                                       'Years', 'Num_Sites'], outputCol = 'features')\n",
    "\n",
    "output = assembler.transform(df)\n",
    "data = output.select('Churn', 'features')\n",
    "data.head()"
   ]
  },
  {
   "cell_type": "code",
   "execution_count": 5,
   "metadata": {},
   "outputs": [],
   "source": [
    "# Split the data\n",
    "train, test = data.randomSplit([0.7, 0.3], seed=13)"
   ]
  },
  {
   "cell_type": "code",
   "execution_count": 6,
   "metadata": {},
   "outputs": [
    {
     "data": {
      "text/plain": [
       "[Row(Churn=0, features=DenseVector([22.0, 11254.38, 1.0, 4.96, 8.0])),\n",
       " Row(Churn=0, features=DenseVector([26.0, 8939.61, 0.0, 4.54, 7.0])),\n",
       " Row(Churn=0, features=DenseVector([27.0, 8628.8, 1.0, 5.3, 7.0])),\n",
       " Row(Churn=0, features=DenseVector([28.0, 9090.43, 1.0, 5.74, 10.0])),\n",
       " Row(Churn=0, features=DenseVector([28.0, 11128.95, 1.0, 5.12, 8.0])),\n",
       " Row(Churn=0, features=DenseVector([28.0, 11204.23, 0.0, 3.67, 11.0])),\n",
       " Row(Churn=0, features=DenseVector([28.0, 11245.38, 0.0, 6.72, 8.0])),\n",
       " Row(Churn=0, features=DenseVector([29.0, 9378.24, 0.0, 4.93, 8.0])),\n",
       " Row(Churn=0, features=DenseVector([29.0, 9617.59, 0.0, 5.49, 8.0])),\n",
       " Row(Churn=0, features=DenseVector([29.0, 10203.18, 1.0, 5.82, 8.0]))]"
      ]
     },
     "execution_count": 6,
     "metadata": {},
     "output_type": "execute_result"
    }
   ],
   "source": [
    "train.head(10)"
   ]
  },
  {
   "cell_type": "code",
   "execution_count": 7,
   "metadata": {},
   "outputs": [],
   "source": [
    "# Apply the logistic regression\n",
    "from pyspark.ml.classification import LogisticRegression\n",
    "\n",
    "log_reg = LogisticRegression(labelCol='Churn')\n",
    "\n",
    "model = log_reg.fit(train)"
   ]
  },
  {
   "cell_type": "code",
   "execution_count": 8,
   "metadata": {},
   "outputs": [],
   "source": [
    "results_train = model.summary"
   ]
  },
  {
   "cell_type": "code",
   "execution_count": 9,
   "metadata": {},
   "outputs": [
    {
     "data": {
      "text/plain": [
       "0.8884942084942075"
      ]
     },
     "execution_count": 9,
     "metadata": {},
     "output_type": "execute_result"
    }
   ],
   "source": [
    "results_train.areaUnderROC"
   ]
  },
  {
   "cell_type": "code",
   "execution_count": 10,
   "metadata": {},
   "outputs": [
    {
     "name": "stdout",
     "output_type": "stream",
     "text": [
      "+-------+-------------------+-------------------+\n",
      "|summary|              Churn|         prediction|\n",
      "+-------+-------------------+-------------------+\n",
      "|  count|                618|                618|\n",
      "|   mean|0.16181229773462782|0.10841423948220065|\n",
      "| stddev|0.36857685529640893|0.31115471133122574|\n",
      "|    min|                0.0|                0.0|\n",
      "|    max|                1.0|                1.0|\n",
      "+-------+-------------------+-------------------+\n",
      "\n"
     ]
    }
   ],
   "source": [
    "results_train.predictions.describe().show()"
   ]
  },
  {
   "cell_type": "code",
   "execution_count": 11,
   "metadata": {
    "scrolled": false
   },
   "outputs": [
    {
     "name": "stdout",
     "output_type": "stream",
     "text": [
      "+-----+--------------------+--------------------+--------------------+----------+\n",
      "|Churn|            features|       rawPrediction|         probability|prediction|\n",
      "+-----+--------------------+--------------------+--------------------+----------+\n",
      "|    0|[25.0,9672.03,0.0...|[4.33507425148796...|[0.98706851286089...|       0.0|\n",
      "|    0|[28.0,8670.98,0.0...|[7.35934154989609...|[0.99936378752157...|       0.0|\n",
      "|    0|[29.0,5900.78,1.0...|[3.52518474072085...|[0.97139591933134...|       0.0|\n",
      "|    0|[30.0,6744.87,0.0...|[3.27145191633357...|[0.96343635244421...|       0.0|\n",
      "|    0|[30.0,8677.28,1.0...|[3.38230199940307...|[0.96714682727525...|       0.0|\n",
      "|    0|[30.0,13473.35,0....|[2.90058155050102...|[0.94787517755219...|       0.0|\n",
      "|    0|[31.0,5304.6,0.0,...|[3.14996771133266...|[0.95890744951726...|       0.0|\n",
      "|    0|[31.0,9574.89,0.0...|[2.83583423690373...|[0.94458180035073...|       0.0|\n",
      "|    0|[31.0,10182.6,1.0...|[4.50790803830198...|[0.98909865646099...|       0.0|\n",
      "|    0|[32.0,12142.99,0....|[5.34207955801257...|[0.99523688803286...|       0.0|\n",
      "|    0|[33.0,7750.54,1.0...|[3.93264995844417...|[0.98078477217263...|       0.0|\n",
      "|    0|[33.0,11370.28,1....|[6.16184555699192...|[0.99789607724062...|       0.0|\n",
      "|    0|[33.0,12638.51,1....|[3.55905072262850...|[0.97232204228160...|       0.0|\n",
      "|    0|[33.0,13314.19,0....|[2.80101051365231...|[0.94273040593310...|       0.0|\n",
      "|    0|[34.0,6461.86,1.0...|[3.87974790470150...|[0.97976200485760...|       0.0|\n",
      "|    0|[34.0,9401.99,1.0...|[0.37436111673483...|[0.59251235616499...|       0.0|\n",
      "|    0|[34.0,9779.12,0.0...|[2.52934656989846...|[0.92617368690844...|       0.0|\n",
      "|    0|[34.0,9919.38,0.0...|[4.56562377565116...|[0.98970372830498...|       0.0|\n",
      "|    0|[34.0,10466.56,0....|[5.05790429443825...|[0.99368130787190...|       0.0|\n",
      "|    0|[34.0,12397.49,0....|[3.10447658944722...|[0.95707702276951...|       0.0|\n",
      "+-----+--------------------+--------------------+--------------------+----------+\n",
      "only showing top 20 rows\n",
      "\n"
     ]
    }
   ],
   "source": [
    "# Evaluate on the test set\n",
    "results_test = model.evaluate(test)\n",
    "results_test.predictions.show()"
   ]
  },
  {
   "cell_type": "code",
   "execution_count": 12,
   "metadata": {
    "scrolled": false
   },
   "outputs": [
    {
     "name": "stdout",
     "output_type": "stream",
     "text": [
      "+--------------------+----+\n",
      "|                 FPR| TPR|\n",
      "+--------------------+----+\n",
      "|                 0.0| 0.0|\n",
      "|                 0.0|0.04|\n",
      "|                 0.0|0.08|\n",
      "|                 0.0|0.12|\n",
      "|                 0.0|0.16|\n",
      "|0.004310344827586207|0.18|\n",
      "|0.004310344827586207|0.22|\n",
      "|0.008620689655172414|0.24|\n",
      "|0.008620689655172414|0.28|\n",
      "|0.008620689655172414|0.32|\n",
      "|0.017241379310344827|0.32|\n",
      "| 0.02586206896551724|0.32|\n",
      "| 0.02586206896551724|0.36|\n",
      "| 0.03017241379310345|0.38|\n",
      "|0.034482758620689655| 0.4|\n",
      "|0.034482758620689655|0.44|\n",
      "|0.034482758620689655|0.48|\n",
      "|0.034482758620689655|0.52|\n",
      "|0.034482758620689655|0.56|\n",
      "| 0.04310344827586207|0.56|\n",
      "+--------------------+----+\n",
      "only showing top 20 rows\n",
      "\n"
     ]
    }
   ],
   "source": [
    "results_test.roc.show()"
   ]
  },
  {
   "cell_type": "code",
   "execution_count": 13,
   "metadata": {},
   "outputs": [
    {
     "data": {
      "text/plain": [
       "0.9387931034482767"
      ]
     },
     "execution_count": 13,
     "metadata": {},
     "output_type": "execute_result"
    }
   ],
   "source": [
    "results_test.areaUnderROC"
   ]
  },
  {
   "cell_type": "code",
   "execution_count": 14,
   "metadata": {},
   "outputs": [
    {
     "data": {
      "text/plain": [
       "0.9389655172413816"
      ]
     },
     "execution_count": 14,
     "metadata": {},
     "output_type": "execute_result"
    }
   ],
   "source": [
    "from pyspark.ml.evaluation import BinaryClassificationEvaluator\n",
    "evaluator = BinaryClassificationEvaluator(labelCol='Churn')\n",
    "\n",
    "evaluator.evaluate(results_test.predictions)"
   ]
  },
  {
   "cell_type": "markdown",
   "metadata": {},
   "source": [
    "# Predict on new data"
   ]
  },
  {
   "cell_type": "code",
   "execution_count": 15,
   "metadata": {},
   "outputs": [
    {
     "name": "stdout",
     "output_type": "stream",
     "text": [
      "root\n",
      " |-- Names: string (nullable = true)\n",
      " |-- Age: double (nullable = true)\n",
      " |-- Total_Purchase: double (nullable = true)\n",
      " |-- Account_Manager: integer (nullable = true)\n",
      " |-- Years: double (nullable = true)\n",
      " |-- Num_Sites: double (nullable = true)\n",
      " |-- Onboard_date: timestamp (nullable = true)\n",
      " |-- Location: string (nullable = true)\n",
      " |-- Company: string (nullable = true)\n",
      "\n"
     ]
    }
   ],
   "source": [
    "# Load the unlabeled data\n",
    "new_customers = spark.read.csv('new_customers.csv', inferSchema=True, header=True)\n",
    "\n",
    "new_customers.printSchema()"
   ]
  },
  {
   "cell_type": "code",
   "execution_count": 16,
   "metadata": {},
   "outputs": [],
   "source": [
    "predict_df = assembler.transform(new_customers)"
   ]
  },
  {
   "cell_type": "code",
   "execution_count": 17,
   "metadata": {},
   "outputs": [],
   "source": [
    "# Refit the with the whole data set\n",
    "finalModel = log_reg.fit(data)"
   ]
  },
  {
   "cell_type": "code",
   "execution_count": 18,
   "metadata": {},
   "outputs": [
    {
     "name": "stdout",
     "output_type": "stream",
     "text": [
      "+----------------+----------+\n",
      "|         Company|prediction|\n",
      "+----------------+----------+\n",
      "|        King Ltd|       0.0|\n",
      "|   Cannon-Benson|       1.0|\n",
      "|Barron-Robertson|       1.0|\n",
      "|   Sexton-Golden|       1.0|\n",
      "|        Wood LLC|       0.0|\n",
      "|   Parks-Robbins|       1.0|\n",
      "+----------------+----------+\n",
      "\n"
     ]
    }
   ],
   "source": [
    "# Predict on the new data set\n",
    "predictions = finalModel.transform(predict_df)\n",
    "predictions.select('Company', 'prediction').show()"
   ]
  }
 ],
 "metadata": {
  "anaconda-cloud": {},
  "kernelspec": {
   "display_name": "Python 3",
   "language": "python",
   "name": "python3"
  },
  "language_info": {
   "codemirror_mode": {
    "name": "ipython",
    "version": 3
   },
   "file_extension": ".py",
   "mimetype": "text/x-python",
   "name": "python",
   "nbconvert_exporter": "python",
   "pygments_lexer": "ipython3",
   "version": "3.5.2"
  }
 },
 "nbformat": 4,
 "nbformat_minor": 1
}
